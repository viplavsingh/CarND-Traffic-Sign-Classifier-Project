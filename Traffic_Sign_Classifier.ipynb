{
 "cells": [
  {
   "cell_type": "markdown",
   "metadata": {},
   "source": [
    "# Self-Driving Car Engineer Nanodegree\n",
    "\n",
    "## Deep Learning\n",
    "\n",
    "## Project: Build a Traffic Sign Recognition Classifier\n",
    "\n",
    "In this notebook, a template is provided for you to implement your functionality in stages, which is required to successfully complete this project. If additional code is required that cannot be included in the notebook, be sure that the Python code is successfully imported and included in your submission if necessary. \n",
    "\n",
    "> **Note**: Once you have completed all of the code implementations, you need to finalize your work by exporting the iPython Notebook as an HTML document. Before exporting the notebook to html, all of the code cells need to have been run so that reviewers can see the final implementation and output. You can then export the notebook by using the menu above and navigating to  \\n\",\n",
    "    \"**File -> Download as -> HTML (.html)**. Include the finished document along with this notebook as your submission. \n",
    "\n",
    "In addition to implementing code, there is a writeup to complete. The writeup should be completed in a separate file, which can be either a markdown file or a pdf document. There is a [write up template](https://github.com/udacity/CarND-Traffic-Sign-Classifier-Project/blob/master/writeup_template.md) that can be used to guide the writing process. Completing the code template and writeup template will cover all of the [rubric points](https://review.udacity.com/#!/rubrics/481/view) for this project.\n",
    "\n",
    "The [rubric](https://review.udacity.com/#!/rubrics/481/view) contains \"Stand Out Suggestions\" for enhancing the project beyond the minimum requirements. The stand out suggestions are optional. If you decide to pursue the \"stand out suggestions\", you can include the code in this Ipython notebook and also discuss the results in the writeup file.\n",
    "\n",
    "\n",
    ">**Note:** Code and Markdown cells can be executed using the **Shift + Enter** keyboard shortcut. In addition, Markdown cells can be edited by typically double-clicking the cell to enter edit mode."
   ]
  },
  {
   "cell_type": "markdown",
   "metadata": {},
   "source": [
    "---\n",
    "## Step 0: Load The Data"
   ]
  },
  {
   "cell_type": "code",
   "execution_count": 1,
   "metadata": {},
   "outputs": [
    {
     "name": "stdout",
     "output_type": "stream",
     "text": [
      "[41 41 41 ..., 25 25 25]\n"
     ]
    }
   ],
   "source": [
    "# Load pickled data\n",
    "import pickle\n",
    "\n",
    "# TODO: Fill this in based on where you saved the training and testing data\n",
    "\n",
    "training_file = '../data/train.p'\n",
    "validation_file='../data/valid.p'\n",
    "testing_file = '../data/test.p'\n",
    "\n",
    "with open(training_file, mode='rb') as f:\n",
    "    train = pickle.load(f)\n",
    "with open(validation_file, mode='rb') as f:\n",
    "    valid = pickle.load(f)\n",
    "with open(testing_file, mode='rb') as f:\n",
    "    test = pickle.load(f)\n",
    "    \n",
    "X_train, y_train = train['features'], train['labels']\n",
    "print(y_train)\n",
    "X_valid, y_valid = valid['features'], valid['labels']\n",
    "X_test, y_test = test['features'], test['labels']"
   ]
  },
  {
   "cell_type": "markdown",
   "metadata": {},
   "source": [
    "---\n",
    "\n",
    "## Step 1: Dataset Summary & Exploration\n",
    "\n",
    "The pickled data is a dictionary with 4 key/value pairs:\n",
    "\n",
    "- `'features'` is a 4D array containing raw pixel data of the traffic sign images, (num examples, width, height, channels).\n",
    "- `'labels'` is a 1D array containing the label/class id of the traffic sign. The file `signnames.csv` contains id -> name mappings for each id.\n",
    "- `'sizes'` is a list containing tuples, (width, height) representing the original width and height the image.\n",
    "- `'coords'` is a list containing tuples, (x1, y1, x2, y2) representing coordinates of a bounding box around the sign in the image. **THESE COORDINATES ASSUME THE ORIGINAL IMAGE. THE PICKLED DATA CONTAINS RESIZED VERSIONS (32 by 32) OF THESE IMAGES**\n",
    "\n",
    "Complete the basic data summary below. Use python, numpy and/or pandas methods to calculate the data summary rather than hard coding the results. For example, the [pandas shape method](http://pandas.pydata.org/pandas-docs/stable/generated/pandas.DataFrame.shape.html) might be useful for calculating some of the summary results. "
   ]
  },
  {
   "cell_type": "markdown",
   "metadata": {},
   "source": [
    "### Provide a Basic Summary of the Data Set Using Python, Numpy and/or Pandas"
   ]
  },
  {
   "cell_type": "code",
   "execution_count": 2,
   "metadata": {},
   "outputs": [
    {
     "name": "stdout",
     "output_type": "stream",
     "text": [
      "Number of training examples = 34799\n",
      "Number of validation examples = 4410\n",
      "Number of testing examples = 12630\n",
      "Image data shape = (32, 32, 3)\n",
      "Number of classes = 43\n",
      "(34799,)\n"
     ]
    }
   ],
   "source": [
    "### Replace each question mark with the appropriate value. \n",
    "### Use python, pandas or numpy methods rather than hard coding the results\n",
    "import numpy as np\n",
    "# Number of training examples\n",
    "n_train = X_train.shape[0]\n",
    "\n",
    "# Number of validation examples\n",
    "n_validation = X_valid.shape[0]\n",
    "\n",
    "# Number of testing examples.\n",
    "n_test = X_test.shape[0]\n",
    "\n",
    "# What's the shape of an traffic sign image?\n",
    "image_shape = (X_train.shape[1],X_train.shape[2],X_train.shape[3])\n",
    "\n",
    "# How many unique classes/labels there are in the dataset.\n",
    "n_classes = len(np.unique(y_train))\n",
    "\n",
    "print(\"Number of training examples =\", n_train)\n",
    "print(\"Number of validation examples =\", n_validation)\n",
    "print(\"Number of testing examples =\", n_test)\n",
    "print(\"Image data shape =\", image_shape)\n",
    "print(\"Number of classes =\", n_classes)\n",
    "print(y_train.shape)\n"
   ]
  },
  {
   "cell_type": "markdown",
   "metadata": {},
   "source": [
    "### Include an exploratory visualization of the dataset"
   ]
  },
  {
   "cell_type": "markdown",
   "metadata": {},
   "source": [
    "Visualize the German Traffic Signs Dataset using the pickled file(s). This is open ended, suggestions include: plotting traffic sign images, plotting the count of each sign, etc. \n",
    "\n",
    "The [Matplotlib](http://matplotlib.org/) [examples](http://matplotlib.org/examples/index.html) and [gallery](http://matplotlib.org/gallery.html) pages are a great resource for doing visualizations in Python.\n",
    "\n",
    "**NOTE:** It's recommended you start with something simple first. If you wish to do more, come back to it after you've completed the rest of the sections. It can be interesting to look at the distribution of classes in the training, validation and test set. Is the distribution the same? Are there more examples of some classes than others?"
   ]
  },
  {
   "cell_type": "code",
   "execution_count": 3,
   "metadata": {},
   "outputs": [
    {
     "name": "stdout",
     "output_type": "stream",
     "text": [
      "[ 180 1980 2010 1260 1770 1650  360 1290 1260 1320 1800 1170 1890 1920  690\n",
      "  540  360  990 1080  180  300  270  330  450  240 1350  540  210  480  240\n",
      "  390  690  210  599  360 1080  330  180 1860  270  300  210  210]\n"
     ]
    },
    {
     "data": {
      "image/png": "[encoded data removed]",
      "text/plain": [
       "<matplotlib.figure.Figure at 0x7f6becea09b0>"
      ]
     },
     "metadata": {
      "needs_background": "light"
     },
     "output_type": "display_data"
    },
    {
     "data": {
      "image/png": "[encoded data removed]",
      "text/plain": [
       "<matplotlib.figure.Figure at 0x7f6bdf5354a8>"
      ]
     },
     "metadata": {
      "needs_background": "light"
     },
     "output_type": "display_data"
    },
    {
     "data": {
      "image/png": "[encoded data removed]",
      "text/plain": [
       "<matplotlib.figure.Figure at 0x7f6bdf3cc390>"
      ]
     },
     "metadata": {
      "needs_background": "light"
     },
     "output_type": "display_data"
    }
   ],
   "source": [
    "### Data exploration visualization code goes here.\n",
    "### Feel free to use as many code cells as needed.\n",
    "import random\n",
    "import matplotlib.pyplot as plt\n",
    "# Visualizations will be shown in the notebook.\n",
    "%matplotlib inline\n",
    "\n",
    "sign_classes, class_indices, class_counts = np.unique(y_train, return_index = True, return_counts = True)\n",
    "print(class_counts)\n",
    "plt.bar( np.arange( 43 ), class_counts, align='center' ) # This represents the number of training examples per class\n",
    "plt.xlabel('Class')\n",
    "plt.ylabel('Number of training examples')\n",
    "plt.xlim([-1, 43])\n",
    "plt.show()\n",
    "sign_classes, class_indices, class_counts = np.unique(y_valid, return_index = True, return_counts = True)\n",
    "plt.bar( np.arange( 43 ), class_counts, align='center' ) # This represents the number of training examples per class\n",
    "plt.xlabel('Class')\n",
    "plt.ylabel('Number of validation examples')\n",
    "plt.xlim([-1, 43])\n",
    "plt.show()\n",
    "sign_classes, class_indices, class_counts = np.unique(y_test, return_index = True, return_counts = True)\n",
    "plt.bar( np.arange( 43 ), class_counts, align='center' ) # This represents the number of training examples per class\n",
    "plt.xlabel('Class')\n",
    "plt.ylabel('Number of testing examples')\n",
    "plt.xlim([-1, 43])\n",
    "plt.show()"
   ]
  },
  {
   "cell_type": "code",
   "execution_count": 4,
   "metadata": {},
   "outputs": [
    {
     "name": "stdout",
     "output_type": "stream",
     "text": [
      "0\n"
     ]
    },
    {
     "data": {
      "image/png": "[encoded data removed]",
      "text/plain": [
       "<matplotlib.figure.Figure at 0x7f6bed207908>"
      ]
     },
     "metadata": {
      "needs_background": "light"
     },
     "output_type": "display_data"
    }
   ],
   "source": [
    "index=random.randint(0,len(X_train))\n",
    "image = X_train[index].squeeze()\n",
    "plt.figure(figsize=(1,1))\n",
    "plt.imshow(image)\n",
    "print(y_train[index])"
   ]
  },
  {
   "cell_type": "markdown",
   "metadata": {},
   "source": [
    "----\n",
    "\n",
    "## Step 2: Design and Test a Model Architecture\n",
    "\n",
    "Design and implement a deep learning model that learns to recognize traffic signs. Train and test your model on the [German Traffic Sign Dataset](http://benchmark.ini.rub.de/?section=gtsrb&subsection=dataset).\n",
    "\n",
    "The LeNet-5 implementation shown in the [classroom](https://classroom.udacity.com/nanodegrees/nd013/parts/fbf77062-5703-404e-b60c-95b78b2f3f9e/modules/6df7ae49-c61c-4bb2-a23e-6527e69209ec/lessons/601ae704-1035-4287-8b11-e2c2716217ad/concepts/d4aca031-508f-4e0b-b493-e7b706120f81) at the end of the CNN lesson is a solid starting point. You'll have to change the number of classes and possibly the preprocessing, but aside from that it's plug and play! \n",
    "\n",
    "With the LeNet-5 solution from the lecture, you should expect a validation set accuracy of about 0.89. To meet specifications, the validation set accuracy will need to be at least 0.93. It is possible to get an even higher accuracy, but 0.93 is the minimum for a successful project submission. \n",
    "\n",
    "There are various aspects to consider when thinking about this problem:\n",
    "\n",
    "- Neural network architecture (is the network over or underfitting?)\n",
    "- Play around preprocessing techniques (normalization, rgb to grayscale, etc)\n",
    "- Number of examples per label (some have more than others).\n",
    "- Generate fake data.\n",
    "\n",
    "Here is an example of a [published baseline model on this problem](http://yann.lecun.com/exdb/publis/pdf/sermanet-ijcnn-11.pdf). It's not required to be familiar with the approach used in the paper but, it's good practice to try to read papers like these."
   ]
  },
  {
   "cell_type": "markdown",
   "metadata": {},
   "source": [
    "### Pre-process the Data Set (normalization, grayscale, etc.)"
   ]
  },
  {
   "cell_type": "markdown",
   "metadata": {},
   "source": [
    "Minimally, the image data should be normalized so that the data has mean zero and equal variance. For image data, `(pixel - 128)/ 128` is a quick way to approximately normalize the data and can be used in this project. \n",
    "\n",
    "Other pre-processing steps are optional. You can try different techniques to see if it improves performance. \n",
    "\n",
    "Use the code cell (or multiple code cells, if necessary) to implement the first step of your project."
   ]
  },
  {
   "cell_type": "code",
   "execution_count": 5,
   "metadata": {},
   "outputs": [],
   "source": [
    "#Normalization\n",
    "X_train=X_train/255\n",
    "X_valid=X_valid/255\n",
    "X_test=X_test/255"
   ]
  },
  {
   "cell_type": "markdown",
   "metadata": {},
   "source": [
    "### Perspective Transform for the Augmentation"
   ]
  },
  {
   "cell_type": "code",
   "execution_count": 6,
   "metadata": {},
   "outputs": [],
   "source": [
    "def apply_projection_transform(image_size):\n",
    "        \"\"\"\n",
    "        Applies projection transform to a random subset of images. Projection margins are randomised in a range\n",
    "        depending on the size of the image. Range itself is subject to scaling depending on augmentation intensity.\n",
    "        \"\"\"\n",
    "        d = image_size * 0.3 * 0.75\n",
    "        #for i in np.random.choice(batch_size, int(batch_size * self.p), replace = False):        \n",
    "        tl_top = random.uniform(-d, d)     # Top left corner, top margin\n",
    "        tl_left = random.uniform(-d, d)    # Top left corner, left margin\n",
    "        bl_bottom = random.uniform(-d, d)  # Bottom left corner, bottom margin\n",
    "        bl_left = random.uniform(-d, d)    # Bottom left corner, left margin\n",
    "        tr_top = random.uniform(-d, d)     # Top right corner, top margin\n",
    "        tr_right = random.uniform(-d, d)   # Top right corner, right margin\n",
    "        br_bottom = random.uniform(-d, d)  # Bottom right corner, bottom margin\n",
    "        br_right = random.uniform(-d, d)   # Bottom right corner, right margin\n",
    "\n",
    "        transform = ProjectiveTransform()\n",
    "        transform.estimate(np.array((\n",
    "                (tl_left, tl_top),\n",
    "                (bl_left, image_size - bl_bottom),\n",
    "                (image_size - br_right, image_size - br_bottom),\n",
    "                (image_size - tr_right, tr_top)\n",
    "            )), np.array((\n",
    "                (0, 0),\n",
    "                (0, image_size),\n",
    "                (image_size, image_size),\n",
    "                (image_size, 0)\n",
    "            )))\n",
    "        \n",
    "            #Xb[i] = warp(Xb[i], transform, output_shape=(image_size, image_size), order = 1, mode = 'edge')\n",
    "\n",
    "        return transform"
   ]
  },
  {
   "cell_type": "markdown",
   "metadata": {},
   "source": [
    "### Data Augmentation"
   ]
  },
  {
   "cell_type": "code",
   "execution_count": 7,
   "metadata": {},
   "outputs": [
    {
     "name": "stdout",
     "output_type": "stream",
     "text": [
      "[ 9960  2220 31439  5370  6810 12360 21450 23730 15870 11040 17130  8580\n",
      " 27329 21810 29219 29909  5010 30449 20370  6630 25950 25680  4500  1770\n",
      " 10800 33449  1230 10350 26849 10560 25020   210 10140 26250 20010 18930\n",
      "   900  4830 14010 25410  4200     0  9750]\n",
      "[ 180 1980 2010 1260 1770 1650  360 1290 1260 1320 1800 1170 1890 1920  690\n",
      "  540  360  990 1080  180  300  270  330  450  240 1350  540  210  480  240\n",
      "  390  690  210  599  360 1080  330  180 1860  270  300  210  210]\n",
      "2010\n",
      "training data before augmentation\n",
      "-----------------------------\n",
      "(34799, 32, 32, 3)\n",
      "training data after augmentation\n",
      "(215000, 32, 32, 3)\n",
      "(215000,)\n"
     ]
    }
   ],
   "source": [
    "### Preprocess the data here. It is required to normalize the data. Other preprocessing steps could include \n",
    "### converting to grayscale, etc.\n",
    "### Feel free to use as many code cells as needed.\n",
    "import random\n",
    "import matplotlib.pyplot as plt\n",
    "from pandas.io.parsers import read_csv\n",
    "# Visualizations will be shown in the notebook.\n",
    "%matplotlib inline\n",
    "from sklearn.utils import shuffle\n",
    "import tensorflow as tf\n",
    "import cv2\n",
    "import itertools\n",
    "import random\n",
    "from skimage.transform import rotate\n",
    "from skimage.transform import warp\n",
    "from skimage.transform import ProjectiveTransform\n",
    "from skimage import transform\n",
    "\n",
    "sign_classes, class_indices, class_counts = np.unique(y_train, return_index = True, return_counts = True)\n",
    "print(class_indices)\n",
    "print(class_counts)\n",
    "print (np.max(class_counts))\n",
    "max_class_cnts=np.max(class_counts)\n",
    "delta = 30. * 0.75\n",
    "x_train_augs=[]\n",
    "y_train_augs=[]\n",
    "print('training data before augmentation')\n",
    "print('-----------------------------')\n",
    "print(X_train.shape)\n",
    "for i in range(len(sign_classes)):\n",
    "    diff=5000-class_counts[i]\n",
    "    x_rots=[]\n",
    "    y_rots=[]\n",
    "    for j in range(diff):\n",
    "        randomInd=random.randint(class_indices[i],class_indices[i]+class_counts[i]-1)       # randomly selecting from the sample belonging to the class\n",
    "        X_train_rot = rotate(X_train[randomInd], np.random.uniform(-delta,delta), mode = 'edge')   # rotating the randomly selected image with an angle\n",
    "        image_size=X_train_rot.shape[1]\n",
    "        transform=apply_projection_transform(image_size)               # apply the perspective transform on the rotated image\n",
    "        X_train_warp= warp(X_train_rot, transform, output_shape=(image_size, image_size), order = 1, mode = 'edge')  # warp the omage\n",
    "        x_rots.append(X_train_warp)\n",
    "        y_rots.append(y_train[class_indices[i]])\n",
    "    x_train_augs.append(x_rots)\n",
    "    y_train_augs.append(y_rots)\n",
    "\n",
    "for ind, count,x_train_aug,y_train_aug in sorted(zip(class_indices,class_counts,x_train_augs,y_train_augs),reverse=True):\n",
    "    x_train_aug = np.array(x_train_aug)\n",
    "    y_train_aug=np.array(y_train_aug)\n",
    "    X_train=np.append(X_train,x_train_aug,axis=0)       # append the augmented data to the actual dataset\n",
    "    y_train=np.append(y_train,y_train_aug,axis=0)\n",
    "\n",
    "print('training data after augmentation')\n",
    "print(X_train.shape)\n",
    "print(y_train.shape)\n",
    "\n",
    "\n",
    "EPOCHS = 15              # number of epochs for training\n",
    "BATCH_SIZE = 128        # the batch size to be used at a time"
   ]
  },
  {
   "cell_type": "code",
   "execution_count": 8,
   "metadata": {},
   "outputs": [
    {
     "name": "stdout",
     "output_type": "stream",
     "text": [
      "(32, 32, 3)\n",
      "1\n"
     ]
    },
    {
     "data": {
      "image/png": "[encoded data removed]",
      "text/plain": [
       "<matplotlib.figure.Figure at 0x7f6b84502780>"
      ]
     },
     "metadata": {
      "needs_background": "light"
     },
     "output_type": "display_data"
    }
   ],
   "source": [
    "%matplotlib inline\n",
    "#index=random.randint(0,len(X_train))\n",
    "image = X_train[190000]\n",
    "print(image.shape)\n",
    "plt.figure(figsize=(1,1))\n",
    "plt.imshow(image)\n",
    "print(y_train[190000])\n"
   ]
  },
  {
   "cell_type": "markdown",
   "metadata": {},
   "source": [
    "### Model Architecture"
   ]
  },
  {
   "cell_type": "code",
   "execution_count": 9,
   "metadata": {},
   "outputs": [],
   "source": [
    "### Define your architecture here.\n",
    "### Feel free to use as many code cells as needed.\n",
    "from tensorflow.contrib.layers import flatten\n",
    "\n",
    "def LeNet(x):    \n",
    "    # Arguments used for tf.truncated_normal, randomly defines variables for the weights and biases for each layer\n",
    "    mu = 0\n",
    "    sigma = 0.1\n",
    "    # Store layers weight & bias\n",
    "    weights = {\n",
    "        'wc1': tf.Variable(tf.truncated_normal([5,5,1,32],mean=mu,stddev=sigma,dtype=tf.float32)),\n",
    "        'wc2': tf.Variable(tf.truncated_normal([5,5,32,64],mean=mu,stddev=sigma,dtype=tf.float32)),\n",
    "        'wc3': tf.Variable(tf.truncated_normal([5,5,64,128],mean=mu,stddev=sigma,dtype=tf.float32)),\n",
    "        'wd1': tf.Variable(tf.truncated_normal([4*4*128, 1024],mean=mu,stddev=sigma,dtype=tf.float32)),\n",
    "        'wd2': tf.Variable(tf.truncated_normal([1024, 512],mean=mu,stddev=sigma,dtype=tf.float32)),\n",
    "        'out': tf.Variable(tf.truncated_normal([512, 43],mean=mu,stddev=sigma,dtype=tf.float32))}\n",
    "\n",
    "    biases = {\n",
    "        'bc1': tf.Variable(tf.truncated_normal([32],mean=mu,stddev=sigma,dtype=tf.float32)),\n",
    "        'bc2': tf.Variable(tf.truncated_normal([64],mean=mu,stddev=sigma,dtype=tf.float32)),\n",
    "        'bc3': tf.Variable(tf.truncated_normal([128],mean=mu,stddev=sigma,dtype=tf.float32)),\n",
    "        'bd1': tf.Variable(tf.truncated_normal([1024],mean=mu,stddev=sigma,dtype=tf.float32)),\n",
    "        'bd2': tf.Variable(tf.truncated_normal([512],mean=mu,stddev=sigma,dtype=tf.float32)),\n",
    "        'out': tf.Variable(tf.truncated_normal([43],mean=mu,stddev=sigma,dtype=tf.float32))}\n",
    "    # TODO: Layer 1: Convolutional. Input = 32x32x1. Output = 32x32x32.\n",
    "    conv_layer1=tf.nn.conv2d(x,weights['wc1'],strides=[1,1,1,1],padding='SAME')\n",
    "    conv_layer1=tf.nn.bias_add(conv_layer1,biases['bc1'])\n",
    "    \n",
    "    # TODO: Activation.\n",
    "    conv_layer1=tf.nn.relu(conv_layer1)\n",
    "    print (conv_layer1.shape)\n",
    "    # TODO: Pooling. Input = 32x32x32. Output = 16x16x32.\n",
    "    conv_layer1=tf.nn.max_pool(conv_layer1,ksize=[1,2,2,1],strides=[1,2,2,1],padding='SAME')\n",
    "    # TODO: Layer 2: Convolutional. Output = 16x16x64.\n",
    "    conv_layer2=tf.nn.conv2d(conv_layer1,weights['wc2'],strides=[1,1,1,1],padding='SAME')\n",
    "    conv_layer2=tf.nn.bias_add(conv_layer2,biases['bc2'])\n",
    "    # TODO: Activation.\n",
    "    conv_layer2=tf.nn.relu(conv_layer2)\n",
    "    print (conv_layer2.shape)\n",
    "    # TODO: Pooling. Input = 16x16x64. Output = 8x8x64.\n",
    "    conv_layer2=tf.nn.max_pool(conv_layer2,ksize=[1,2,2,1],strides=[1,2,2,1],padding='SAME')\n",
    "    # TODO: Layer 3: Convolutional. Output = 8x8x128.\n",
    "    conv_layer3=tf.nn.conv2d(conv_layer2,weights['wc3'],strides=[1,1,1,1],padding='SAME')\n",
    "    conv_layer3=tf.nn.bias_add(conv_layer3,biases['bc3'])\n",
    "    # TODO: Activation.\n",
    "    conv_layer3=tf.nn.relu(conv_layer3)\n",
    "    print (conv_layer3.shape)\n",
    "    # TODO: Pooling. Input = 8x8x128. Output = 4x4x128.\n",
    "    conv_layer3=tf.nn.max_pool(conv_layer3,ksize=[1,2,2,1],strides=[1,2,2,1],padding='SAME')\n",
    "    # TODO: Flatten. Input = 4x4x128. Output = 3584.\n",
    "    conv_layer3_flat=flatten(conv_layer3)\n",
    "    print (conv_layer3_flat.shape)\n",
    "    # TODO: Layer 3: Fully Connected. Input = 4x4x128. Output = 3584.\n",
    "    fc_layer1=tf.add(tf.matmul(conv_layer3_flat,weights['wd1']),biases['bd1'])\n",
    "    # TODO: Activation.\n",
    "    fc_layer1=tf.nn.relu(fc_layer1)\n",
    "    fc_layer1=tf.nn.dropout(fc_layer1,keep_prob)\n",
    "    # TODO: Layer 4: Fully Connected. Input = 3584. Output = 1024.\n",
    "    fc_layer2=tf.add(tf.matmul(fc_layer1,weights['wd2']),biases['bd2'])\n",
    "    # TODO: Activation.\n",
    "    fc_layer2=tf.nn.relu(fc_layer2)\n",
    "    fc_layer2=tf.nn.dropout(fc_layer2,keep_prob)\n",
    "    # TODO: Layer 5: Fully Connected. Input = 1024. Output = 43.\n",
    "    logits=tf.add(tf.matmul(fc_layer2,weights['out']),biases['out'])\n",
    "    return logits"
   ]
  },
  {
   "cell_type": "markdown",
   "metadata": {},
   "source": [
    "### Train, Validate and Test the Model"
   ]
  },
  {
   "cell_type": "markdown",
   "metadata": {},
   "source": [
    "A validation set can be used to assess how well the model is performing. A low accuracy on the training and validation\n",
    "sets imply underfitting. A high accuracy on the training set but low accuracy on the validation set implies overfitting."
   ]
  },
  {
   "cell_type": "code",
   "execution_count": 10,
   "metadata": {},
   "outputs": [
    {
     "name": "stdout",
     "output_type": "stream",
     "text": [
      "(?, 32, 32, 32)\n",
      "(?, 16, 16, 64)\n",
      "(?, 8, 8, 128)\n",
      "(?, 2048)\n"
     ]
    }
   ],
   "source": [
    "x_rgb = tf.placeholder(tf.float32, (None, 32, 32, 3)) # tensor for rgb image\n",
    "x=tf.image.rgb_to_grayscale(x_rgb)                    # tensor for grayscale image\n",
    "y = tf.placeholder(tf.int32, (None))                  # tensor for label\n",
    "keep_prob = tf.placeholder(tf.float32)                # tensor for keep-probability used for the dropout\n",
    "one_hot_y = tf.one_hot(y, 43)\n",
    "### Train your model here.\n",
    "\n",
    "rate = 0.001       # learning rate\n",
    "\n",
    "logits = LeNet(x)  # here training data tensor will be fed to the model\n",
    "cross_entropy = tf.nn.softmax_cross_entropy_with_logits(labels=one_hot_y, logits=logits)  # compute the cross-entropy\n",
    "loss_operation = tf.reduce_mean(cross_entropy)          # compute the loss function\n",
    "optimizer = tf.train.AdamOptimizer(learning_rate = rate) # optimizer to be used which takes learning rate as the parameter\n",
    "training_operation = optimizer.minimize(loss_operation)  \n",
    "    \n",
    "### Calculate and report the accuracy on the training and validation set.\n",
    "correct_prediction = tf.equal(tf.argmax(logits, 1), tf.argmax(one_hot_y, 1))\n",
    "accuracy_operation = tf.reduce_mean(tf.cast(correct_prediction, tf.float32))\n",
    "saver = tf.train.Saver()\n",
    "\n",
    "# this function evaluates the accuracy of the dataset.\n",
    "def evaluate(X_data, y_data, prob):\n",
    "    num_examples = len(X_data)\n",
    "    total_accuracy = 0\n",
    "    sess = tf.get_default_session()\n",
    "    for offset in range(0, num_examples, BATCH_SIZE):\n",
    "        batch_x, batch_y = X_data[offset:offset+BATCH_SIZE], y_data[offset:offset+BATCH_SIZE]\n",
    "        accuracy = sess.run(accuracy_operation, feed_dict={x_rgb: batch_x, y: batch_y, keep_prob: prob})   # data will be fed as a placeholder\n",
    "        total_accuracy += (accuracy * len(batch_x))\n",
    "    return total_accuracy / num_examples\n"
   ]
  },
  {
   "cell_type": "markdown",
   "metadata": {},
   "source": [
    "### Training"
   ]
  },
  {
   "cell_type": "code",
   "execution_count": 11,
   "metadata": {},
   "outputs": [
    {
     "name": "stdout",
     "output_type": "stream",
     "text": [
      "Training...\n",
      "\n",
      "EPOCH 1 ...\n",
      "Training Accuracy = 0.712\n",
      "Validation Accuracy = 0.747\n",
      "\n",
      "EPOCH 2 ...\n",
      "Training Accuracy = 0.878\n",
      "Validation Accuracy = 0.878\n",
      "\n",
      "EPOCH 3 ...\n",
      "Training Accuracy = 0.924\n",
      "Validation Accuracy = 0.919\n",
      "\n",
      "EPOCH 4 ...\n",
      "Training Accuracy = 0.945\n",
      "Validation Accuracy = 0.927\n",
      "\n",
      "EPOCH 5 ...\n",
      "Training Accuracy = 0.959\n",
      "Validation Accuracy = 0.939\n",
      "\n",
      "EPOCH 6 ...\n",
      "Training Accuracy = 0.959\n",
      "Validation Accuracy = 0.938\n",
      "\n",
      "EPOCH 7 ...\n",
      "Training Accuracy = 0.968\n",
      "Validation Accuracy = 0.951\n",
      "\n",
      "EPOCH 8 ...\n",
      "Training Accuracy = 0.977\n",
      "Validation Accuracy = 0.949\n",
      "\n",
      "EPOCH 9 ...\n",
      "Training Accuracy = 0.971\n",
      "Validation Accuracy = 0.942\n",
      "\n",
      "EPOCH 10 ...\n",
      "Training Accuracy = 0.977\n",
      "Validation Accuracy = 0.953\n",
      "\n",
      "EPOCH 11 ...\n",
      "Training Accuracy = 0.978\n",
      "Validation Accuracy = 0.959\n",
      "\n",
      "EPOCH 12 ...\n",
      "Training Accuracy = 0.981\n",
      "Validation Accuracy = 0.953\n",
      "\n",
      "EPOCH 13 ...\n",
      "Training Accuracy = 0.984\n",
      "Validation Accuracy = 0.960\n",
      "\n",
      "EPOCH 14 ...\n",
      "Training Accuracy = 0.983\n",
      "Validation Accuracy = 0.954\n",
      "\n",
      "EPOCH 15 ...\n",
      "Training Accuracy = 0.986\n",
      "Validation Accuracy = 0.965\n",
      "\n",
      "Model saved\n"
     ]
    }
   ],
   "source": [
    "with tf.Session() as sess:\n",
    "    sess.run(tf.global_variables_initializer()) # initializes the global variables like weights and biases\n",
    "    num_examples = len(X_train)                 # number of training examples\n",
    "\n",
    "    print(\"Training...\")\n",
    "    print()\n",
    "    for i in range(EPOCHS):\n",
    "        X_train, y_train = shuffle(X_train, y_train)    # shuffles the training set after each epoch\n",
    "        for offset in range(0, num_examples, BATCH_SIZE):\n",
    "            end = offset + BATCH_SIZE\n",
    "            batch_x, batch_y = X_train[offset:end], y_train[offset:end]\n",
    "            sess.run(training_operation, feed_dict={x_rgb: batch_x, y: batch_y, keep_prob: 0.5}) # data will be fed as a placeholder\n",
    "            \n",
    "        print(\"EPOCH {} ...\".format(i+1))\n",
    "        training_accuracy=evaluate(X_train,y_train,0.5)        # prob of 0.5 will be used for dropout while training\n",
    "        print (\"Training Accuracy = {:.3f}\".format(training_accuracy))\n",
    "        validation_accuracy = evaluate(X_valid, y_valid, 1.0)   # prob of 1.0 will be used for validation dataset\n",
    "        print(\"Validation Accuracy = {:.3f}\".format(validation_accuracy))\n",
    "        print()\n",
    "\n",
    "    saver.save(sess, './lenet')\n",
    "    print(\"Model saved\")"
   ]
  },
  {
   "cell_type": "markdown",
   "metadata": {},
   "source": [
    "### Testing accuracy"
   ]
  },
  {
   "cell_type": "code",
   "execution_count": 12,
   "metadata": {},
   "outputs": [
    {
     "name": "stdout",
     "output_type": "stream",
     "text": [
      "INFO:tensorflow:Restoring parameters from ./lenet\n",
      "Test Accuracy = 0.952\n"
     ]
    }
   ],
   "source": [
    "with tf.Session() as sess:\n",
    "    saver.restore(sess, tf.train.latest_checkpoint('.'))\n",
    "\n",
    "    test_accuracy = evaluate(X_test, y_test,1.0)\n",
    "    print(\"Test Accuracy = {:.3f}\".format(test_accuracy))"
   ]
  },
  {
   "cell_type": "markdown",
   "metadata": {},
   "source": [
    "---\n",
    "\n",
    "## Step 3: Test a Model on New Images\n",
    "\n",
    "To give yourself more insight into how your model is working, download at least five pictures of German traffic signs from the web and use your model to predict the traffic sign type.\n",
    "\n",
    "You may find `signnames.csv` useful as it contains mappings from the class id (integer) to the actual sign name."
   ]
  },
  {
   "cell_type": "markdown",
   "metadata": {},
   "source": [
    "### Load and Output the Images"
   ]
  },
  {
   "cell_type": "code",
   "execution_count": 13,
   "metadata": {},
   "outputs": [
    {
     "name": "stdout",
     "output_type": "stream",
     "text": [
      "./Traffic_images/Lenet_1.jpg\n",
      "./Traffic_images/Lenet_2.jpg\n",
      "./Traffic_images/Lenet_3.jpg\n",
      "./Traffic_images/Lenet_5.jpg\n",
      "./Traffic_images/Lenet_4.jpg\n"
     ]
    },
    {
     "data": {
      "image/png": "[encoded data removed]",
      "text/plain": [
       "<matplotlib.figure.Figure at 0x7f6b33353b00>"
      ]
     },
     "metadata": {
      "needs_background": "light"
     },
     "output_type": "display_data"
    },
    {
     "data": {
      "image/png": "[encoded data removed]",
      "text/plain": [
       "<matplotlib.figure.Figure at 0x7f6bc0480e48>"
      ]
     },
     "metadata": {
      "needs_background": "light"
     },
     "output_type": "display_data"
    },
    {
     "data": {
      "image/png": "[encoded data removed]",
      "text/plain": [
       "<matplotlib.figure.Figure at 0x7f6bc04bc390>"
      ]
     },
     "metadata": {
      "needs_background": "light"
     },
     "output_type": "display_data"
    },
    {
     "data": {
      "image/png": "[encoded data removed]",
      "text/plain": [
       "<matplotlib.figure.Figure at 0x7f6bc0539a58>"
      ]
     },
     "metadata": {
      "needs_background": "light"
     },
     "output_type": "display_data"
    },
    {
     "data": {
      "image/png": "[encoded data removed]",
      "text/plain": [
       "<matplotlib.figure.Figure at 0x7f6bc054cc18>"
      ]
     },
     "metadata": {
      "needs_background": "light"
     },
     "output_type": "display_data"
    }
   ],
   "source": [
    "### Load the images and plot them here.\n",
    "import matplotlib.pyplot as plt\n",
    "# Visualizations will be shown in the notebook.\n",
    "%matplotlib inline\n",
    "\n",
    "import numpy as np\n",
    "import cv2\n",
    "import glob\n",
    "x_images=[]       # array to store the traffic images\n",
    "y_images=[]       # array to store the traffic sign labels\n",
    "# traffic images have been downloaded from the internet and uploaded to 'Traffic_images' folder.\n",
    "for img in glob.glob(\"./Traffic_images/*.jpg\"):             \n",
    "    print(img)\n",
    "    if(img=='./Traffic_images/Lenet_1.jpg'):\n",
    "        y_images.append(4)\n",
    "    if(img=='./Traffic_images/Lenet_2.jpg'):\n",
    "        y_images.append(25)\n",
    "    if(img=='./Traffic_images/Lenet_3.jpg'):\n",
    "        y_images.append(11)\n",
    "    if(img=='./Traffic_images/Lenet_4.jpg'):\n",
    "        y_images.append(14)\n",
    "    if(img=='./Traffic_images/Lenet_5.jpg'):\n",
    "        y_images.append(13)\n",
    "    cv_img = cv2.imread(img)\n",
    "    cv_img=cv2.resize(cv_img, (32, 32))           # images are resized to (32x32)\n",
    "    x_images.append(cv_img)\n",
    "    plt.figure(figsize=(1,1))\n",
    "    plt.imshow(cv_img)\n",
    "y_images=np.array(y_images,dtype=np.float32)\n",
    "x_images=np.array(x_images,dtype=np.float32)\n"
   ]
  },
  {
   "cell_type": "markdown",
   "metadata": {},
   "source": [
    "### Predict the Sign Type for Each Image"
   ]
  },
  {
   "cell_type": "code",
   "execution_count": 14,
   "metadata": {},
   "outputs": [],
   "source": [
    "x_images=x_images/255       # preprocess the data \n"
   ]
  },
  {
   "cell_type": "code",
   "execution_count": 15,
   "metadata": {},
   "outputs": [
    {
     "name": "stdout",
     "output_type": "stream",
     "text": [
      "INFO:tensorflow:Restoring parameters from ./lenet\n",
      "predicted classes\n",
      "------------------\n",
      "[ 4 25 11 13 21]\n",
      "actual classes\n",
      "------------------\n",
      "[  4.  25.  11.  13.  14.]\n",
      "correctly predicted\n",
      "-------------------\n",
      "[ True  True  True  True False]\n"
     ]
    }
   ],
   "source": [
    "\n",
    "with tf.Session() as sess:\n",
    "    saver.restore(sess, tf.train.latest_checkpoint('.'))\n",
    "    out=sess.run(logits,feed_dict={x_rgb: x_images, keep_prob: 1.0})\n",
    "    print('predicted classes')\n",
    "    print('------------------')\n",
    "    print(sess.run(tf.argmax(out, 1)))\n",
    "    print('actual classes')\n",
    "    print('------------------')\n",
    "    print(y_images)\n",
    "    correct_pred = sess.run(correct_prediction, feed_dict={x_rgb: x_images, y: y_images, keep_prob: 1.0})\n",
    "    print('correctly predicted')\n",
    "    print('-------------------')\n",
    "    print(correct_pred)\n"
   ]
  },
  {
   "cell_type": "markdown",
   "metadata": {},
   "source": [
    "### Analyze Performance"
   ]
  },
  {
   "cell_type": "code",
   "execution_count": 16,
   "metadata": {},
   "outputs": [
    {
     "name": "stdout",
     "output_type": "stream",
     "text": [
      "INFO:tensorflow:Restoring parameters from ./lenet\n",
      "Test Accuracy = 0.800\n"
     ]
    }
   ],
   "source": [
    "### Calculate the accuracy for these 5 new images. \n",
    "### For example, if the model predicted 1 out of 5 signs correctly, it's 20% accurate on these new images.\n",
    "with tf.Session() as sess:\n",
    "    saver.restore(sess, tf.train.latest_checkpoint('.'))\n",
    "\n",
    "    image_accuracy = evaluate(x_images, y_images,1.0)\n",
    "    print(\"Test Accuracy = {:.3f}\".format(image_accuracy))"
   ]
  },
  {
   "cell_type": "markdown",
   "metadata": {},
   "source": [
    "### Output Top 5 Softmax Probabilities For Each Image Found on the Web"
   ]
  },
  {
   "cell_type": "markdown",
   "metadata": {},
   "source": [
    "For each of the new images, print out the model's softmax probabilities to show the **certainty** of the model's predictions (limit the output to the top 5 probabilities for each image). [`tf.nn.top_k`](https://www.tensorflow.org/versions/r0.12/api_docs/python/nn.html#top_k) could prove helpful here. \n",
    "\n",
    "The example below demonstrates how tf.nn.top_k can be used to find the top k predictions for each image.\n",
    "\n",
    "`tf.nn.top_k` will return the values and indices (class ids) of the top k predictions. So if k=3, for each sign, it'll return the 3 largest probabilities (out of a possible 43) and the correspoding class ids.\n",
    "\n",
    "Take this numpy array as an example. The values in the array represent predictions. The array contains softmax probabilities for five candidate images with six possible classes. `tf.nn.top_k` is used to choose the three classes with the highest probability:\n",
    "\n",
    "```\n",
    "# (5, 6) array\n",
    "a = np.array([[ 0.24879643,  0.07032244,  0.12641572,  0.34763842,  0.07893497,\n",
    "         0.12789202],\n",
    "       [ 0.28086119,  0.27569815,  0.08594638,  0.0178669 ,  0.18063401,\n",
    "         0.15899337],\n",
    "       [ 0.26076848,  0.23664738,  0.08020603,  0.07001922,  0.1134371 ,\n",
    "         0.23892179],\n",
    "       [ 0.11943333,  0.29198961,  0.02605103,  0.26234032,  0.1351348 ,\n",
    "         0.16505091],\n",
    "       [ 0.09561176,  0.34396535,  0.0643941 ,  0.16240774,  0.24206137,\n",
    "         0.09155967]])\n",
    "```\n",
    "\n",
    "Running it through `sess.run(tf.nn.top_k(tf.constant(a), k=3))` produces:\n",
    "\n",
    "```\n",
    "TopKV2(values=array([[ 0.34763842,  0.24879643,  0.12789202],\n",
    "       [ 0.28086119,  0.27569815,  0.18063401],\n",
    "       [ 0.26076848,  0.23892179,  0.23664738],\n",
    "       [ 0.29198961,  0.26234032,  0.16505091],\n",
    "       [ 0.34396535,  0.24206137,  0.16240774]]), indices=array([[3, 0, 5],\n",
    "       [0, 1, 4],\n",
    "       [0, 5, 1],\n",
    "       [1, 3, 5],\n",
    "       [1, 4, 3]], dtype=int32))\n",
    "```\n",
    "\n",
    "Looking just at the first row we get `[ 0.34763842,  0.24879643,  0.12789202]`, you can confirm these are the 3 largest probabilities in `a`. You'll also notice `[3, 0, 5]` are the corresponding indices."
   ]
  },
  {
   "cell_type": "code",
   "execution_count": 17,
   "metadata": {},
   "outputs": [
    {
     "name": "stdout",
     "output_type": "stream",
     "text": [
      "INFO:tensorflow:Restoring parameters from ./lenet\n",
      "TopKV2(values=array([[  1.00000000e+00,   1.38391699e-13,   5.29101612e-18,\n",
      "          1.57476753e-18,   3.52178558e-23],\n",
      "       [  1.00000000e+00,   0.00000000e+00,   0.00000000e+00,\n",
      "          0.00000000e+00,   0.00000000e+00],\n",
      "       [  1.00000000e+00,   2.50407192e-17,   3.73878015e-31,\n",
      "          2.58449331e-34,   8.23018022e-36],\n",
      "       [  9.99997973e-01,   1.13943327e-06,   5.40356837e-07,\n",
      "          2.09545959e-07,   9.39634948e-09],\n",
      "       [  7.21517801e-01,   2.42125869e-01,   2.29722057e-02,\n",
      "          5.22571523e-03,   4.44349740e-03]], dtype=float32), indices=array([[ 4,  0,  1,  8,  2],\n",
      "       [25,  0,  1,  2,  3],\n",
      "       [11, 30, 12, 21, 25],\n",
      "       [13,  9, 12, 35, 38],\n",
      "       [21, 11, 31, 23, 40]], dtype=int32))\n"
     ]
    }
   ],
   "source": [
    "### Print out the top five softmax probabilities for the predictions on the German traffic sign images found on the web. \n",
    "with tf.Session() as sess:\n",
    "    saver.restore(sess, tf.train.latest_checkpoint('.'))\n",
    "    out=sess.run(logits,feed_dict={x_rgb: x_images, keep_prob: 1.0})   # calculate the logits\n",
    "    soft_prob=sess.run(tf.nn.softmax(out))                             # calculate the softmax prob\n",
    "    k_prob=sess.run(tf.nn.top_k(tf.constant(soft_prob), k=5))          # calculate the top 5\n",
    "    print(k_prob)\n"
   ]
  },
  {
   "cell_type": "markdown",
   "metadata": {},
   "source": [
    "### Project Writeup\n",
    "\n",
    "Once you have completed the code implementation, document your results in a project writeup using this [template](https://github.com/udacity/CarND-Traffic-Sign-Classifier-Project/blob/master/writeup_template.md) as a guide. The writeup can be in a markdown or pdf file. "
   ]
  },
  {
   "cell_type": "markdown",
   "metadata": {},
   "source": [
    "> **Note**: Once you have completed all of the code implementations and successfully answered each question above, you may finalize your work by exporting the iPython Notebook as an HTML document. You can do this by using the menu above and navigating to  \\n\",\n",
    "    \"**File -> Download as -> HTML (.html)**. Include the finished document along with this notebook as your submission."
   ]
  },
  {
   "cell_type": "markdown",
   "metadata": {},
   "source": [
    "---\n",
    "\n",
    "## Step 4 (Optional): Visualize the Neural Network's State with Test Images\n",
    "\n",
    " This Section is not required to complete but acts as an additional excersise for understaning the output of a neural network's weights. While neural networks can be a great learning device they are often referred to as a black box. We can understand what the weights of a neural network look like better by plotting their feature maps. After successfully training your neural network you can see what it's feature maps look like by plotting the output of the network's weight layers in response to a test stimuli image. From these plotted feature maps, it's possible to see what characteristics of an image the network finds interesting. For a sign, maybe the inner network feature maps react with high activation to the sign's boundary outline or to the contrast in the sign's painted symbol.\n",
    "\n",
    " Provided for you below is the function code that allows you to get the visualization output of any tensorflow weight layer you want. The inputs to the function should be a stimuli image, one used during training or a new one you provided, and then the tensorflow variable name that represents the layer's state during the training process, for instance if you wanted to see what the [LeNet lab's](https://classroom.udacity.com/nanodegrees/nd013/parts/fbf77062-5703-404e-b60c-95b78b2f3f9e/modules/6df7ae49-c61c-4bb2-a23e-6527e69209ec/lessons/601ae704-1035-4287-8b11-e2c2716217ad/concepts/d4aca031-508f-4e0b-b493-e7b706120f81) feature maps looked like for it's second convolutional layer you could enter conv2 as the tf_activation variable.\n",
    "\n",
    "For an example of what feature map outputs look like, check out NVIDIA's results in their paper [End-to-End Deep Learning for Self-Driving Cars](https://devblogs.nvidia.com/parallelforall/deep-learning-self-driving-cars/) in the section Visualization of internal CNN State. NVIDIA was able to show that their network's inner weights had high activations to road boundary lines by comparing feature maps from an image with a clear path to one without. Try experimenting with a similar test to show that your trained network's weights are looking for interesting features, whether it's looking at differences in feature maps from images with or without a sign, or even what feature maps look like in a trained network vs a completely untrained one on the same sign image.\n",
    "\n",
    "<figure>\n",
    " <img src=\"visualize_cnn.png\" width=\"380\" alt=\"Combined Image\" />\n",
    " <figcaption>\n",
    " <p></p> \n",
    " <p style=\"text-align: center;\"> Your output should look something like this (above)</p> \n",
    " </figcaption>\n",
    "</figure>\n",
    " <p></p> \n"
   ]
  },
  {
   "cell_type": "code",
   "execution_count": null,
   "metadata": {
    "collapsed": true
   },
   "outputs": [],
   "source": [
    "### Visualize your network's feature maps here.\n",
    "### Feel free to use as many code cells as needed.\n",
    "\n",
    "# image_input: the test image being fed into the network to produce the feature maps\n",
    "# tf_activation: should be a tf variable name used during your training procedure that represents the calculated state of a specific weight layer\n",
    "# activation_min/max: can be used to view the activation contrast in more detail, by default matplot sets min and max to the actual min and max values of the output\n",
    "# plt_num: used to plot out multiple different weight feature map sets on the same block, just extend the plt number for each new feature map entry\n",
    "\n",
    "def outputFeatureMap(image_input, tf_activation, activation_min=-1, activation_max=-1 ,plt_num=1):\n",
    "    # Here make sure to preprocess your image_input in a way your network expects\n",
    "    # with size, normalization, ect if needed\n",
    "    # image_input =\n",
    "    # Note: x should be the same name as your network's tensorflow data placeholder variable\n",
    "    # If you get an error tf_activation is not defined it may be having trouble accessing the variable from inside a function\n",
    "    activation = tf_activation.eval(session=sess,feed_dict={x : image_input})\n",
    "    featuremaps = activation.shape[3]\n",
    "    plt.figure(plt_num, figsize=(15,15))\n",
    "    for featuremap in range(featuremaps):\n",
    "        plt.subplot(6,8, featuremap+1) # sets the number of feature maps to show on each row and column\n",
    "        plt.title('FeatureMap ' + str(featuremap)) # displays the feature map number\n",
    "        if activation_min != -1 & activation_max != -1:\n",
    "            plt.imshow(activation[0,:,:, featuremap], interpolation=\"nearest\", vmin =activation_min, vmax=activation_max, cmap=\"gray\")\n",
    "        elif activation_max != -1:\n",
    "            plt.imshow(activation[0,:,:, featuremap], interpolation=\"nearest\", vmax=activation_max, cmap=\"gray\")\n",
    "        elif activation_min !=-1:\n",
    "            plt.imshow(activation[0,:,:, featuremap], interpolation=\"nearest\", vmin=activation_min, cmap=\"gray\")\n",
    "        else:\n",
    "            plt.imshow(activation[0,:,:, featuremap], interpolation=\"nearest\", cmap=\"gray\")"
   ]
  }
 ],
 "metadata": {
  "anaconda-cloud": {},
  "kernelspec": {
   "display_name": "Python 3",
   "language": "python",
   "name": "python3"
  },
  "language_info": {
   "codemirror_mode": {
    "name": "ipython",
    "version": 3
   },
   "file_extension": ".py",
   "mimetype": "text/x-python",
   "name": "python",
   "nbconvert_exporter": "python",
   "pygments_lexer": "ipython3",
   "version": "3.6.3"
  }
 },
 "nbformat": 4,
 "nbformat_minor": 1
}
